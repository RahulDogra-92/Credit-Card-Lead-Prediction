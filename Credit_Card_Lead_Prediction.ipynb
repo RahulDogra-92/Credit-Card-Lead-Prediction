{
 "cells": [
  {
   "cell_type": "markdown",
   "id": "ea663e2e",
   "metadata": {},
   "source": [
    "# About\n",
    "\n",
    "- This is my code for `Credit Card Lead Prediction` at Analytics Vidhya JOB-A-THON May 2021.\n",
    "\n",
    "- My final approach is listed under `Iteration 3` in  `Experimenting and Improving` Section."
   ]
  },
  {
   "cell_type": "markdown",
   "id": "aea2c7eb",
   "metadata": {},
   "source": [
    "# Table of Contents\n",
    "\n",
    "- [1. Imports](#1)\n",
    "\n",
    "\n",
    "- [2. Import Data](#2)\n",
    "\n",
    "\n",
    "- [3. Baselines - fill Credit_Product with 'No', Convert to numerical data, use default RF classifier , xgb classifier, xgbrf classifier, LightGBM](#3)\n",
    "   \n",
    "   \n",
    "- [4. Experimenting and Improving](#4)"
   ]
  },
  {
   "cell_type": "markdown",
   "id": "6254b1d8",
   "metadata": {},
   "source": [
    "<a name='1'></a>\n",
    "# 1. Imports"
   ]
  },
  {
   "cell_type": "code",
   "execution_count": 25,
   "id": "e318156d",
   "metadata": {},
   "outputs": [],
   "source": [
    "import numpy as np\n",
    "import pandas as pd\n",
    "import matplotlib as mpl\n",
    "import seaborn as sns\n",
    "import sklearn\n",
    "import category_encoders as ce\n",
    "import warnings\n",
    "\n",
    "from matplotlib import pyplot as plt\n",
    "\n",
    "from sklearn.preprocessing import LabelEncoder, OneHotEncoder, OrdinalEncoder\n",
    "from sklearn.model_selection import StratifiedKFold\n",
    "from sklearn.impute import KNNImputer\n",
    "from sklearn.metrics import roc_auc_score\n",
    "from sklearn.model_selection import RandomizedSearchCV\n",
    "\n",
    "from sklearn.ensemble import RandomForestClassifier\n",
    "from xgboost import XGBClassifier, XGBRFClassifier\n",
    "from lightgbm import LGBMClassifier \n",
    "\n",
    "pd.set_option('display.max_rows', None)\n",
    "pd.set_option('display.max_columns', None)\n",
    "pd.set_option('display.max_colwidth', None)\n",
    "\n",
    "plt.rcParams['figure.dpi'] = 200\n",
    "plt.rcParams['axes.spines.top'] = False\n",
    "plt.rcParams['axes.spines.right'] = False\n",
    "sns.set_palette('Set2')\n",
    "%matplotlib inline\n",
    "\n",
    "warnings.filterwarnings('ignore')\n",
    "\n",
    "random_seed = 42\n",
    "np.random.seed(42)"
   ]
  },
  {
   "cell_type": "markdown",
   "id": "d743d8af",
   "metadata": {},
   "source": [
    "<a name='2'></a>\n",
    "# 2. Import Data"
   ]
  },
  {
   "cell_type": "code",
   "execution_count": 26,
   "id": "82563b04",
   "metadata": {},
   "outputs": [],
   "source": [
    "train = pd.read_csv('./data/train_s3TEQDk.csv')\n",
    "train_folds = pd.read_csv('./data/train_kfolds.csv') #Check Creating Folds Under Section 4\n",
    "test = pd.read_csv('./data/test_mSzZ8RL.csv')\n",
    "sample_sub = pd.read_csv('./data/sample_submission_eyYijxG.csv')"
   ]
  },
  {
   "cell_type": "markdown",
   "id": "2b292527",
   "metadata": {},
   "source": [
    "<a name='3'></a>\n",
    "# 3. Baselines - fill Credit_Product with 'No', Convert to numerical data, use default RF classifier , xgb classifier, xgbrf classifier, LightGBM"
   ]
  },
  {
   "cell_type": "markdown",
   "id": "41d17eb3",
   "metadata": {
    "heading_collapsed": true
   },
   "source": [
    "## 3.1. Filling Missing Values"
   ]
  },
  {
   "cell_type": "code",
   "execution_count": 14,
   "id": "590218cf",
   "metadata": {
    "hidden": true
   },
   "outputs": [],
   "source": [
    "train['Credit_Product'].fillna('No', inplace=True)\n",
    "test['Credit_Product'].fillna('No', inplace=True)"
   ]
  },
  {
   "cell_type": "markdown",
   "id": "0ae4d9b7",
   "metadata": {
    "heading_collapsed": true
   },
   "source": [
    "## 3.2. Label Encoding"
   ]
  },
  {
   "cell_type": "code",
   "execution_count": 17,
   "id": "3ced6438",
   "metadata": {
    "hidden": true
   },
   "outputs": [],
   "source": [
    "le = LabelEncoder()"
   ]
  },
  {
   "cell_type": "code",
   "execution_count": 18,
   "id": "47bf8ec5",
   "metadata": {
    "hidden": true
   },
   "outputs": [],
   "source": [
    "cat_cols = ['Gender', 'Region_Code', 'Occupation', 'Channel_Code', 'Credit_Product', 'Is_Active']\n",
    "\n",
    "for col in cat_cols:\n",
    "    train[col] = le.fit_transform(train[col].values.ravel())\n",
    "    test[col] = le.transform(test[col].values.ravel())"
   ]
  },
  {
   "cell_type": "markdown",
   "id": "9bf7cdd8",
   "metadata": {
    "heading_collapsed": true
   },
   "source": [
    "## 3.3. Modelling "
   ]
  },
  {
   "cell_type": "markdown",
   "id": "5903e5f7",
   "metadata": {
    "heading_collapsed": true,
    "hidden": true
   },
   "source": [
    "### Random Forest"
   ]
  },
  {
   "cell_type": "code",
   "execution_count": 67,
   "id": "a942f5e4",
   "metadata": {
    "hidden": true
   },
   "outputs": [],
   "source": [
    "rfclf = RandomForestClassifier()"
   ]
  },
  {
   "cell_type": "code",
   "execution_count": null,
   "id": "53f16e06",
   "metadata": {
    "hidden": true
   },
   "outputs": [],
   "source": [
    "rfclf.fit(train.iloc[:, 1:-1], train['Is_Lead'].values)"
   ]
  },
  {
   "cell_type": "code",
   "execution_count": null,
   "id": "2e679135",
   "metadata": {
    "hidden": true
   },
   "outputs": [],
   "source": [
    "preds = rfclf.predict_proba(test.iloc[:, 1:])[:, 1]\n",
    "\n",
    "sample_sub['Is_Lead'] = preds\n",
    "sample_sub.to_csv('./output/baseline_rf.csv', index=False)"
   ]
  },
  {
   "cell_type": "markdown",
   "id": "542469d2",
   "metadata": {
    "heading_collapsed": true,
    "hidden": true
   },
   "source": [
    "### XGB, XGBRF Classifiers"
   ]
  },
  {
   "cell_type": "code",
   "execution_count": 29,
   "id": "a692ce15",
   "metadata": {
    "hidden": true
   },
   "outputs": [],
   "source": [
    "clf1 = XGBClassifier(use_label_encoder=False)\n",
    "clf2 = XGBRFClassifier(use_label_encoder=False)"
   ]
  },
  {
   "cell_type": "code",
   "execution_count": 31,
   "id": "2d6c9201",
   "metadata": {
    "hidden": true
   },
   "outputs": [
    {
     "name": "stdout",
     "output_type": "stream",
     "text": [
      "[02:03:29] WARNING: ../src/learner.cc:1095: Starting in XGBoost 1.3.0, the default evaluation metric used with the objective 'binary:logistic' was changed from 'error' to 'logloss'. Explicitly set eval_metric if you'd like to restore the old behavior.\n"
     ]
    },
    {
     "data": {
      "text/plain": [
       "XGBClassifier(base_score=0.5, booster='gbtree', colsample_bylevel=1,\n",
       "              colsample_bynode=1, colsample_bytree=1, gamma=0, gpu_id=-1,\n",
       "              importance_type='gain', interaction_constraints='',\n",
       "              learning_rate=0.300000012, max_delta_step=0, max_depth=6,\n",
       "              min_child_weight=1, missing=nan, monotone_constraints='()',\n",
       "              n_estimators=100, n_jobs=8, num_parallel_tree=1, random_state=0,\n",
       "              reg_alpha=0, reg_lambda=1, scale_pos_weight=1, subsample=1,\n",
       "              tree_method='exact', use_label_encoder=False,\n",
       "              validate_parameters=1, verbosity=None)"
      ]
     },
     "execution_count": 31,
     "metadata": {},
     "output_type": "execute_result"
    }
   ],
   "source": [
    "clf1.fit(train.iloc[:, 1:-1], train['Is_Lead'].values)"
   ]
  },
  {
   "cell_type": "code",
   "execution_count": 33,
   "id": "ec9cca18",
   "metadata": {
    "hidden": true
   },
   "outputs": [
    {
     "name": "stderr",
     "output_type": "stream",
     "text": [
      "/home/alankar/anaconda3/envs/torch_env/lib/python3.9/site-packages/xgboost/data.py:112: UserWarning: Use subset (sliced data) of np.ndarray is not recommended because it will generate extra copies and increase memory consumption\n",
      "  warnings.warn(\n"
     ]
    }
   ],
   "source": [
    "preds = clf1.predict_proba(test.iloc[:, 1:])[:, 1]\n",
    "sample_sub['Is_Lead'] = preds\n",
    "sample_sub.to_csv('./output/baseline_xgb.csv', index=False)"
   ]
  },
  {
   "cell_type": "code",
   "execution_count": 32,
   "id": "96635faf",
   "metadata": {
    "hidden": true
   },
   "outputs": [
    {
     "name": "stdout",
     "output_type": "stream",
     "text": [
      "[02:04:03] WARNING: ../src/learner.cc:1095: Starting in XGBoost 1.3.0, the default evaluation metric used with the objective 'binary:logistic' was changed from 'error' to 'logloss'. Explicitly set eval_metric if you'd like to restore the old behavior.\n"
     ]
    },
    {
     "data": {
      "text/plain": [
       "XGBRFClassifier(base_score=0.5, booster='gbtree', colsample_bylevel=1,\n",
       "                colsample_bytree=1, gamma=0, gpu_id=-1, importance_type='gain',\n",
       "                interaction_constraints='', max_delta_step=0, max_depth=6,\n",
       "                min_child_weight=1, missing=nan, monotone_constraints='()',\n",
       "                n_estimators=100, n_jobs=8, num_parallel_tree=100,\n",
       "                objective='binary:logistic', random_state=0, reg_alpha=0,\n",
       "                scale_pos_weight=1, tree_method='exact',\n",
       "                use_label_encoder=False, validate_parameters=1, verbosity=None)"
      ]
     },
     "execution_count": 32,
     "metadata": {},
     "output_type": "execute_result"
    }
   ],
   "source": [
    "clf2.fit(train.iloc[:, 1:-1], train['Is_Lead'].values)"
   ]
  },
  {
   "cell_type": "code",
   "execution_count": 35,
   "id": "0c8fc423",
   "metadata": {
    "hidden": true
   },
   "outputs": [
    {
     "name": "stderr",
     "output_type": "stream",
     "text": [
      "/home/alankar/anaconda3/envs/torch_env/lib/python3.9/site-packages/xgboost/data.py:112: UserWarning: Use subset (sliced data) of np.ndarray is not recommended because it will generate extra copies and increase memory consumption\n",
      "  warnings.warn(\n"
     ]
    }
   ],
   "source": [
    "preds = clf2.predict_proba(test.iloc[:, 1:])[:, 1]\n",
    "sample_sub['Is_Lead'] = preds\n",
    "sample_sub.to_csv('./output/baseline_xgbrf.csv', index=False)"
   ]
  },
  {
   "cell_type": "markdown",
   "id": "6acc2b70",
   "metadata": {
    "heading_collapsed": true,
    "hidden": true
   },
   "source": [
    "### LightGBM"
   ]
  },
  {
   "cell_type": "code",
   "execution_count": 23,
   "id": "8520ec9d",
   "metadata": {
    "hidden": true
   },
   "outputs": [],
   "source": [
    "lgclf = LGBMClassifier()"
   ]
  },
  {
   "cell_type": "code",
   "execution_count": 24,
   "id": "277a3259",
   "metadata": {
    "hidden": true
   },
   "outputs": [
    {
     "data": {
      "text/plain": [
       "LGBMClassifier()"
      ]
     },
     "execution_count": 24,
     "metadata": {},
     "output_type": "execute_result"
    }
   ],
   "source": [
    "lgclf.fit(train.iloc[:, 1:-1], train['Is_Lead'].values)"
   ]
  },
  {
   "cell_type": "code",
   "execution_count": 25,
   "id": "f9addf65",
   "metadata": {
    "hidden": true
   },
   "outputs": [],
   "source": [
    "preds = lgclf.predict_proba(test.iloc[:, 1:])[:, 1]\n",
    "sample_sub['Is_Lead'] = preds\n",
    "sample_sub.to_csv('./output/baseline_lgbm.csv', index=False)"
   ]
  },
  {
   "cell_type": "markdown",
   "id": "0530b229",
   "metadata": {},
   "source": [
    "# Conclusion\n",
    "\n",
    "LightGBM and XGBoost worked best. So I decided to use them for further modelling."
   ]
  },
  {
   "cell_type": "markdown",
   "id": "9558831c",
   "metadata": {},
   "source": [
    "<a name='4'></a>\n",
    "# 4. Experimenting and Improving"
   ]
  },
  {
   "cell_type": "markdown",
   "id": "cdc9ff42",
   "metadata": {
    "heading_collapsed": true
   },
   "source": [
    "## Creating Folds for Cross Validation"
   ]
  },
  {
   "cell_type": "code",
   "execution_count": 3,
   "id": "1fba5e92",
   "metadata": {
    "hidden": true
   },
   "outputs": [],
   "source": [
    "# Uncomment and run(Needs to be run only once)\n",
    "# X = train.copy()\n",
    "# y = train['Is_Lead'].copy()\n",
    "\n",
    "# X['kfold'] = -1\n",
    "# X = X.sample(frac=1).reset_index(drop=True)\n",
    "\n",
    "# kf = StratifiedKFold(n_splits=5)\n",
    "\n",
    "# for fold, (t_, v_) in enumerate(kf.split(X = X, y = y)):\n",
    "#     X.loc[v_, 'kfold'] = fold\n",
    "    \n",
    "# X.to_csv('./data/train_kfolds.csv', index=False)"
   ]
  },
  {
   "cell_type": "markdown",
   "id": "934fd7d8",
   "metadata": {
    "heading_collapsed": true
   },
   "source": [
    "## Iteration 1 - Impute 'Credit_Product' using KNN Imputer, ordinal encode 'Occupation' column, label encode rest, use base LGBM, XGB"
   ]
  },
  {
   "cell_type": "code",
   "execution_count": 64,
   "id": "edec453f",
   "metadata": {
    "hidden": true
   },
   "outputs": [],
   "source": [
    "le = LabelEncoder()"
   ]
  },
  {
   "cell_type": "code",
   "execution_count": 65,
   "id": "12212429",
   "metadata": {
    "hidden": true
   },
   "outputs": [],
   "source": [
    "for col in ['Gender', 'Channel_Code', 'Is_Active', 'Region_Code']:\n",
    "    train_folds[col] = le.fit_transform(train_folds[col].values.ravel())\n",
    "    test[col] = le.transform(test[col].values.ravel())"
   ]
  },
  {
   "cell_type": "code",
   "execution_count": 8,
   "id": "92d52f61",
   "metadata": {
    "hidden": true
   },
   "outputs": [],
   "source": [
    "oe = OrdinalEncoder()"
   ]
  },
  {
   "cell_type": "code",
   "execution_count": 9,
   "id": "dea6965a",
   "metadata": {
    "hidden": true
   },
   "outputs": [],
   "source": [
    "train_folds['Occupation'] = oe.fit_transform(train_folds[['Occupation']])\n",
    "test['Occupation'] = oe.transform(test[['Occupation']])"
   ]
  },
  {
   "cell_type": "code",
   "execution_count": 10,
   "id": "ab0f2570",
   "metadata": {
    "hidden": true
   },
   "outputs": [],
   "source": [
    "credit_col = {'Yes': 1, 'No': 0}\n",
    "\n",
    "train_folds['Credit_Product'].replace(credit_col, inplace=True)\n",
    "test['Credit_Product'].replace(credit_col, inplace=True)"
   ]
  },
  {
   "cell_type": "code",
   "execution_count": 12,
   "id": "c3cc42b0",
   "metadata": {
    "hidden": true
   },
   "outputs": [],
   "source": [
    "imputer = KNNImputer(n_neighbors=1)"
   ]
  },
  {
   "cell_type": "code",
   "execution_count": 13,
   "id": "a6107cc0",
   "metadata": {
    "hidden": true
   },
   "outputs": [],
   "source": [
    "train_folds.iloc[:, 1:-2] = imputer.fit_transform(train_folds.iloc[:, 1:-2])\n",
    "test.iloc[:, 1:] = imputer.transform(test.iloc[:, 1:])"
   ]
  },
  {
   "cell_type": "markdown",
   "id": "e20bda26",
   "metadata": {
    "hidden": true
   },
   "source": [
    "### Base LightGBM"
   ]
  },
  {
   "cell_type": "code",
   "execution_count": 31,
   "id": "082d3fa2",
   "metadata": {
    "hidden": true
   },
   "outputs": [],
   "source": [
    "lgclf = LGBMClassifier()"
   ]
  },
  {
   "cell_type": "code",
   "execution_count": 33,
   "id": "40043484",
   "metadata": {
    "hidden": true
   },
   "outputs": [
    {
     "data": {
      "text/plain": [
       "LGBMClassifier()"
      ]
     },
     "execution_count": 33,
     "metadata": {},
     "output_type": "execute_result"
    }
   ],
   "source": [
    "lgclf.fit(train_folds.iloc[:, 1:-2], train_folds['Is_Lead'].values)"
   ]
  },
  {
   "cell_type": "code",
   "execution_count": 35,
   "id": "03dbbbae",
   "metadata": {
    "hidden": true
   },
   "outputs": [],
   "source": [
    "preds = lgclf.predict_proba(test.iloc[:, 1:])[:, 1]\n",
    "sample_sub['Is_Lead'] = preds\n",
    "sample_sub.to_csv('./output/base_lgbm.csv', index=False)"
   ]
  },
  {
   "cell_type": "markdown",
   "id": "7ff35af7",
   "metadata": {
    "hidden": true
   },
   "source": [
    "### Base XGB"
   ]
  },
  {
   "cell_type": "code",
   "execution_count": 14,
   "id": "91163016",
   "metadata": {
    "hidden": true
   },
   "outputs": [],
   "source": [
    "xgb = XGBClassifier(use_label_encoder = False)"
   ]
  },
  {
   "cell_type": "code",
   "execution_count": 15,
   "id": "2cba2d1e",
   "metadata": {
    "hidden": true
   },
   "outputs": [
    {
     "name": "stdout",
     "output_type": "stream",
     "text": [
      "[15:15:12] WARNING: ../src/learner.cc:1095: Starting in XGBoost 1.3.0, the default evaluation metric used with the objective 'binary:logistic' was changed from 'error' to 'logloss'. Explicitly set eval_metric if you'd like to restore the old behavior.\n"
     ]
    },
    {
     "data": {
      "text/plain": [
       "XGBClassifier(base_score=0.5, booster='gbtree', colsample_bylevel=1,\n",
       "              colsample_bynode=1, colsample_bytree=1, gamma=0, gpu_id=-1,\n",
       "              importance_type='gain', interaction_constraints='',\n",
       "              learning_rate=0.300000012, max_delta_step=0, max_depth=6,\n",
       "              min_child_weight=1, missing=nan, monotone_constraints='()',\n",
       "              n_estimators=100, n_jobs=8, num_parallel_tree=1, random_state=0,\n",
       "              reg_alpha=0, reg_lambda=1, scale_pos_weight=1, subsample=1,\n",
       "              tree_method='exact', use_label_encoder=False,\n",
       "              validate_parameters=1, verbosity=None)"
      ]
     },
     "execution_count": 15,
     "metadata": {},
     "output_type": "execute_result"
    }
   ],
   "source": [
    "xgb.fit(train_folds.iloc[:, 1:-2], train_folds['Is_Lead'].values)"
   ]
  },
  {
   "cell_type": "code",
   "execution_count": 16,
   "id": "11a47531",
   "metadata": {
    "hidden": true
   },
   "outputs": [
    {
     "name": "stderr",
     "output_type": "stream",
     "text": [
      "/home/alankar/anaconda3/envs/torch_env/lib/python3.9/site-packages/xgboost/data.py:112: UserWarning: Use subset (sliced data) of np.ndarray is not recommended because it will generate extra copies and increase memory consumption\n",
      "  warnings.warn(\n"
     ]
    }
   ],
   "source": [
    "preds = xgb.predict_proba(test.iloc[:, 1:])[:, 1]\n",
    "sample_sub['Is_Lead'] = preds\n",
    "sample_sub.to_csv('./output/base_xgb.csv', index=False)"
   ]
  },
  {
   "cell_type": "markdown",
   "id": "9799a13d",
   "metadata": {
    "heading_collapsed": true
   },
   "source": [
    "## Iteration 2 - Target encode all categorical variables, knn impute 'Credit_Product' and use base LGBM"
   ]
  },
  {
   "cell_type": "code",
   "execution_count": 61,
   "id": "e3274927",
   "metadata": {
    "hidden": true
   },
   "outputs": [],
   "source": [
    "te = ce.TargetEncoder(cols=cat_cols)"
   ]
  },
  {
   "cell_type": "code",
   "execution_count": 62,
   "id": "13b79444",
   "metadata": {
    "hidden": true
   },
   "outputs": [
    {
     "name": "stderr",
     "output_type": "stream",
     "text": [
      "/home/alankar/anaconda3/envs/torch_env/lib/python3.9/site-packages/category_encoders/utils.py:21: FutureWarning: is_categorical is deprecated and will be removed in a future version.  Use is_categorical_dtype instead\n",
      "  elif pd.api.types.is_categorical(cols):\n"
     ]
    }
   ],
   "source": [
    "train_folds[cat_cols] = te.fit_transform(train_folds[cat_cols], y=X['Is_Lead'])\n",
    "test[cat_cols] = te.transform(test[cat_cols])"
   ]
  },
  {
   "cell_type": "code",
   "execution_count": 69,
   "id": "699fe4b1",
   "metadata": {
    "hidden": true
   },
   "outputs": [],
   "source": [
    "credit_col = {'Yes': 1, 'No': 0}\n",
    "\n",
    "train_folds['Credit_Product'].replace(credit_col, inplace=True)\n",
    "test['Credit_Product'].replace(credit_col, inplace=True)"
   ]
  },
  {
   "cell_type": "code",
   "execution_count": 70,
   "id": "7e3c6f24",
   "metadata": {
    "hidden": true
   },
   "outputs": [],
   "source": [
    "imputer = KNNImputer(n_neighbors=1)"
   ]
  },
  {
   "cell_type": "code",
   "execution_count": 71,
   "id": "4265673a",
   "metadata": {
    "hidden": true
   },
   "outputs": [],
   "source": [
    "train_folds.iloc[:, 1:-2] = imputer.fit_transform(train_folds.iloc[:, 1:-2])\n",
    "test.iloc[:, 1:] = imputer.transform(test.iloc[:, 1:])"
   ]
  },
  {
   "cell_type": "code",
   "execution_count": 72,
   "id": "b680370f",
   "metadata": {
    "hidden": true
   },
   "outputs": [],
   "source": [
    "credit_col_rev = {1: 'Yes', 0: 'No'}\n",
    "\n",
    "train_folds['Credit_Product'].replace(credit_col_rev, inplace=True)\n",
    "test['Credit_Product'].replace(credit_col_rev, inplace=True)"
   ]
  },
  {
   "cell_type": "code",
   "execution_count": 73,
   "id": "1f4463a3",
   "metadata": {
    "hidden": true
   },
   "outputs": [],
   "source": [
    "te1 = ce.TargetEncoder(cols=['Credit_Product'])"
   ]
  },
  {
   "cell_type": "code",
   "execution_count": 74,
   "id": "4901aa77",
   "metadata": {
    "hidden": true
   },
   "outputs": [
    {
     "name": "stderr",
     "output_type": "stream",
     "text": [
      "/home/alankar/anaconda3/envs/torch_env/lib/python3.9/site-packages/category_encoders/utils.py:21: FutureWarning: is_categorical is deprecated and will be removed in a future version.  Use is_categorical_dtype instead\n",
      "  elif pd.api.types.is_categorical(cols):\n"
     ]
    }
   ],
   "source": [
    "train_folds['Credit_Product'] = te1.fit_transform(train_folds['Credit_Product'], y=X['Is_Lead'])\n",
    "test['Credit_Product'] = te1.transform(test['Credit_Product'])"
   ]
  },
  {
   "cell_type": "code",
   "execution_count": 76,
   "id": "22e8b0da",
   "metadata": {
    "hidden": true
   },
   "outputs": [],
   "source": [
    "lgclf = LGBMClassifier()"
   ]
  },
  {
   "cell_type": "code",
   "execution_count": 77,
   "id": "2de18bfd",
   "metadata": {
    "hidden": true
   },
   "outputs": [
    {
     "data": {
      "text/plain": [
       "LGBMClassifier()"
      ]
     },
     "execution_count": 77,
     "metadata": {},
     "output_type": "execute_result"
    }
   ],
   "source": [
    "lgclf.fit(train_folds.iloc[:, 1:-2], train_folds['Is_Lead'].values)"
   ]
  },
  {
   "cell_type": "code",
   "execution_count": 78,
   "id": "ebf3ff51",
   "metadata": {
    "hidden": true
   },
   "outputs": [],
   "source": [
    "preds = lgclf.predict_proba(test.iloc[:, 1:])[:, 1]\n",
    "sample_sub['Is_Lead'] = preds\n",
    "sample_sub.to_csv('./output/base_lgbm_target_encoding_all.csv', index=False)"
   ]
  },
  {
   "cell_type": "markdown",
   "id": "ba792ae0",
   "metadata": {},
   "source": [
    "## Iteration 3 - Label Encode all categorical variables, dont impute null values, use lgbm with tuning, xgb with tuning"
   ]
  },
  {
   "cell_type": "code",
   "execution_count": 27,
   "id": "bdfde3cf",
   "metadata": {},
   "outputs": [],
   "source": [
    "le = LabelEncoder()\n",
    "\n",
    "cat_cols = ['Gender', 'Region_Code', 'Occupation', 'Channel_Code', 'Is_Active', 'Credit_Product']\n",
    "\n",
    "for col in cat_cols[:-1]:\n",
    "    train_folds[col] = le.fit_transform(train_folds[col].values.ravel())\n",
    "    test[col] = le.transform(test[col].values.ravel())"
   ]
  },
  {
   "cell_type": "code",
   "execution_count": 28,
   "id": "e96d8a74",
   "metadata": {},
   "outputs": [],
   "source": [
    "credit_col = {'Yes': 1, 'No': 0}\n",
    "\n",
    "train_folds['Credit_Product'].replace(credit_col, inplace=True)\n",
    "test['Credit_Product'].replace(credit_col, inplace=True)"
   ]
  },
  {
   "cell_type": "code",
   "execution_count": 29,
   "id": "6ad35e64",
   "metadata": {},
   "outputs": [],
   "source": [
    "FOLD_MAPPING = {\n",
    "    0: [1, 2, 3, 4],\n",
    "    1: [0, 2, 3, 4],\n",
    "    2: [0, 1, 3, 4],\n",
    "    3: [0, 1, 2, 4],\n",
    "    4: [0, 1, 2, 3]\n",
    "}"
   ]
  },
  {
   "cell_type": "code",
   "execution_count": 30,
   "id": "ada03b50",
   "metadata": {},
   "outputs": [],
   "source": [
    "def train_kfolds(model, data, FOLD_MAPPING, metric):\n",
    "    scores = []\n",
    "\n",
    "    for fold in range(len(FOLD_MAPPING)):\n",
    "        X_train = data[data.kfold.isin(FOLD_MAPPING.get(fold))].reset_index(drop=True)\n",
    "        X_val = data[data.kfold==fold].reset_index(drop=True)\n",
    "\n",
    "        X_train = X_train.drop(['ID', 'kfold'], axis=1)\n",
    "        X_val = X_val.drop(['ID', 'kfold'], axis=1)\n",
    "\n",
    "        model.fit(X_train.drop('Is_Lead', axis=1), X_train['Is_Lead'].values)\n",
    "        val_preds = model.predict_proba(X_val.drop('Is_Lead', axis=1))[:, 1]\n",
    "\n",
    "        score = roc_auc_score(X_val['Is_Lead'].values, val_preds)\n",
    "        print(f'Fold :{fold}, Metric Value: {score}')\n",
    "        scores.append(score)\n",
    "\n",
    "    print(f'Average Metric Value: {np.mean(scores)}')\n",
    "    "
   ]
  },
  {
   "cell_type": "markdown",
   "id": "a63994fd",
   "metadata": {},
   "source": [
    "### LGBM"
   ]
  },
  {
   "cell_type": "code",
   "execution_count": 62,
   "id": "41db03d8",
   "metadata": {},
   "outputs": [],
   "source": [
    "lgbclf = LGBMClassifier(n_jobs=-1,\n",
    "                        random_state=random_seed,\n",
    "                        objective='binary',\n",
    "                        reg_lambda = 1,\n",
    "                        reg_alpha= 1,\n",
    "                        n_estimators=600,\n",
    "                        min_child_weight=1,\n",
    "                        max_depth=5,\n",
    "                        learning_rate= 0.02, \n",
    "                        num_leaves=30)"
   ]
  },
  {
   "cell_type": "code",
   "execution_count": 8,
   "id": "d743eb79",
   "metadata": {},
   "outputs": [
    {
     "name": "stdout",
     "output_type": "stream",
     "text": [
      "Fold :0, Metric Value: 0.8776186871673771\n",
      "Fold :1, Metric Value: 0.8731639054326303\n",
      "Fold :2, Metric Value: 0.8721196039742922\n",
      "Fold :3, Metric Value: 0.8715981327187601\n",
      "Fold :4, Metric Value: 0.8754079573408753\n",
      "Average Metric Value: 0.873981657326787\n"
     ]
    }
   ],
   "source": [
    "train_kfolds(lgbclf, train_folds, FOLD_MAPPING, roc_auc_score)"
   ]
  },
  {
   "cell_type": "code",
   "execution_count": 9,
   "id": "ea9bbe8e",
   "metadata": {},
   "outputs": [
    {
     "data": {
      "text/plain": [
       "LGBMClassifier(learning_rate=0.02, max_depth=5, min_child_weight=1,\n",
       "               n_estimators=600, num_leaves=30, objective='binary',\n",
       "               random_state=42, reg_alpha=1, reg_lambda=1)"
      ]
     },
     "execution_count": 9,
     "metadata": {},
     "output_type": "execute_result"
    }
   ],
   "source": [
    "lgbclf.fit(train_folds.drop(['ID', 'kfold', 'Is_Lead'], axis=1), train_folds['Is_Lead'].values)"
   ]
  },
  {
   "cell_type": "code",
   "execution_count": 10,
   "id": "4af68cb4",
   "metadata": {},
   "outputs": [],
   "source": [
    "preds = lgbclf.predict_proba(test.drop('ID', axis=1))[:, 1]\n",
    "sample_sub['Is_Lead'] = preds\n",
    "sample_sub.to_csv('./output/tuned_lgbm_all_label_encode_no_impute.csv', index=False)"
   ]
  },
  {
   "cell_type": "markdown",
   "id": "c9c9312e",
   "metadata": {},
   "source": [
    "### XGB"
   ]
  },
  {
   "cell_type": "code",
   "execution_count": 61,
   "id": "9f3ac7fd",
   "metadata": {},
   "outputs": [],
   "source": [
    "xgb = XGBClassifier(subsample=1.0,\n",
    "                    n_estimators=300,\n",
    "                    min_child_weight = 10,\n",
    "                    max_depth = 5,\n",
    "                    learning_rate =0.1,\n",
    "                    gamma = 5,\n",
    "                    colsample_bytree = 0.6,\n",
    "                    eval_metric='logloss',\n",
    "                    use_label_encoder=False,\n",
    "                    random_state=random_seed,\n",
    "                    n_jobs=-1)"
   ]
  },
  {
   "cell_type": "code",
   "execution_count": 12,
   "id": "c26e7687",
   "metadata": {
    "scrolled": false
   },
   "outputs": [
    {
     "name": "stdout",
     "output_type": "stream",
     "text": [
      "Fold :0, Metric Value: 0.8780586023582548\n",
      "Fold :1, Metric Value: 0.8730653788965108\n",
      "Fold :2, Metric Value: 0.8726760776060061\n",
      "Fold :3, Metric Value: 0.8718272355297895\n",
      "Fold :4, Metric Value: 0.8750544286829585\n",
      "Average Metric Value: 0.8741363446147039\n"
     ]
    }
   ],
   "source": [
    "train_kfolds(xgb, train_folds, FOLD_MAPPING, roc_auc_score)"
   ]
  },
  {
   "cell_type": "code",
   "execution_count": 13,
   "id": "c6416efa",
   "metadata": {},
   "outputs": [
    {
     "data": {
      "text/plain": [
       "XGBClassifier(base_score=0.5, booster='gbtree', colsample_bylevel=1,\n",
       "              colsample_bynode=1, colsample_bytree=0.6, eval_metric='logloss',\n",
       "              gamma=5, gpu_id=-1, importance_type='gain',\n",
       "              interaction_constraints='', learning_rate=0.1, max_delta_step=0,\n",
       "              max_depth=5, min_child_weight=10, missing=nan,\n",
       "              monotone_constraints='()', n_estimators=300, n_jobs=-1,\n",
       "              num_parallel_tree=1, random_state=42, reg_alpha=0, reg_lambda=1,\n",
       "              scale_pos_weight=1, subsample=1.0, tree_method='exact',\n",
       "              use_label_encoder=False, validate_parameters=1, verbosity=None)"
      ]
     },
     "execution_count": 13,
     "metadata": {},
     "output_type": "execute_result"
    }
   ],
   "source": [
    "xgb.fit(train_folds.drop(['ID', 'kfold', 'Is_Lead'], axis=1), train_folds['Is_Lead'].values)"
   ]
  },
  {
   "cell_type": "code",
   "execution_count": 14,
   "id": "6478286a",
   "metadata": {},
   "outputs": [],
   "source": [
    "preds = xgb.predict_proba(test.drop('ID', axis=1))[:, 1]\n",
    "sample_sub['Is_Lead'] = preds\n",
    "sample_sub.to_csv('./output/tuned_xgb_all_label_encode_no_impute.csv', index=False)"
   ]
  },
  {
   "cell_type": "markdown",
   "id": "b00d4a11",
   "metadata": {},
   "source": [
    "### Blending Predictions"
   ]
  },
  {
   "cell_type": "code",
   "execution_count": 15,
   "id": "555db816",
   "metadata": {},
   "outputs": [],
   "source": [
    "xgb_preds = xgb.predict_proba(test.drop('ID', axis=1))[:, 1]\n",
    "lgb_preds = lgbclf.predict_proba(test.drop('ID', axis=1))[:, 1]\n",
    "combined_preds = pd.DataFrame({'xgb': xgb_preds, 'lgb': lgb_preds})"
   ]
  },
  {
   "cell_type": "code",
   "execution_count": 16,
   "id": "b7b595a1",
   "metadata": {},
   "outputs": [
    {
     "data": {
      "text/html": [
       "<div>\n",
       "<style scoped>\n",
       "    .dataframe tbody tr th:only-of-type {\n",
       "        vertical-align: middle;\n",
       "    }\n",
       "\n",
       "    .dataframe tbody tr th {\n",
       "        vertical-align: top;\n",
       "    }\n",
       "\n",
       "    .dataframe thead th {\n",
       "        text-align: right;\n",
       "    }\n",
       "</style>\n",
       "<table border=\"1\" class=\"dataframe\">\n",
       "  <thead>\n",
       "    <tr style=\"text-align: right;\">\n",
       "      <th></th>\n",
       "      <th>xgb</th>\n",
       "      <th>lgb</th>\n",
       "      <th>avg</th>\n",
       "    </tr>\n",
       "  </thead>\n",
       "  <tbody>\n",
       "    <tr>\n",
       "      <th>0</th>\n",
       "      <td>0.046443</td>\n",
       "      <td>0.044297</td>\n",
       "      <td>0.045370</td>\n",
       "    </tr>\n",
       "    <tr>\n",
       "      <th>1</th>\n",
       "      <td>0.853880</td>\n",
       "      <td>0.877629</td>\n",
       "      <td>0.865754</td>\n",
       "    </tr>\n",
       "    <tr>\n",
       "      <th>2</th>\n",
       "      <td>0.065698</td>\n",
       "      <td>0.078616</td>\n",
       "      <td>0.072157</td>\n",
       "    </tr>\n",
       "    <tr>\n",
       "      <th>3</th>\n",
       "      <td>0.025327</td>\n",
       "      <td>0.021346</td>\n",
       "      <td>0.023337</td>\n",
       "    </tr>\n",
       "    <tr>\n",
       "      <th>4</th>\n",
       "      <td>0.023241</td>\n",
       "      <td>0.022320</td>\n",
       "      <td>0.022780</td>\n",
       "    </tr>\n",
       "  </tbody>\n",
       "</table>\n",
       "</div>"
      ],
      "text/plain": [
       "        xgb       lgb       avg\n",
       "0  0.046443  0.044297  0.045370\n",
       "1  0.853880  0.877629  0.865754\n",
       "2  0.065698  0.078616  0.072157\n",
       "3  0.025327  0.021346  0.023337\n",
       "4  0.023241  0.022320  0.022780"
      ]
     },
     "execution_count": 16,
     "metadata": {},
     "output_type": "execute_result"
    }
   ],
   "source": [
    "combined_preds['avg'] = (combined_preds['xgb'] + combined_preds['lgb']) / 2\n",
    "combined_preds.head()"
   ]
  },
  {
   "cell_type": "code",
   "execution_count": 17,
   "id": "f8cc6c51",
   "metadata": {},
   "outputs": [],
   "source": [
    "sample_sub['Is_Lead'] = combined_preds['avg']\n",
    "sample_sub.to_csv('./output/combined_xgb_lgb_noimpute_tuned.csv', index=False)"
   ]
  },
  {
   "cell_type": "markdown",
   "id": "a0ee7eac",
   "metadata": {
    "heading_collapsed": true
   },
   "source": [
    "### HyperParameter Tuning"
   ]
  },
  {
   "cell_type": "code",
   "execution_count": 28,
   "id": "a302ad25",
   "metadata": {
    "hidden": true,
    "scrolled": true
   },
   "outputs": [],
   "source": [
    "# XGB hyperparameter tuning\n",
    "\n",
    "# skf = StratifiedKFold(n_splits=5, shuffle = False) \n",
    "\n",
    "# params = {\n",
    "#         'learning_rate': [0.01, 0.1, 0.2],\n",
    "#         'min_child_weight': [1, 5, 10],\n",
    "#         'gamma': [0.5, 1, 1.5, 2, 5],\n",
    "#         'subsample': [0.6, 0.8, 1.0],\n",
    "#         'colsample_bytree': [0.6, 0.8, 1.0],\n",
    "#         'max_depth': [3, 4, 5],\n",
    "#         'n_estimators': [100, 300, 500]\n",
    "#         }\n",
    "\n",
    "\n",
    "\n",
    "# random_search = RandomizedSearchCV(xgb,\n",
    "#                                    param_distributions=params,\n",
    "#                                    n_iter=10,\n",
    "#                                    scoring='roc_auc',\n",
    "#                                    n_jobs=-1,\n",
    "#                                    cv=skf.split(train_folds.drop(['ID', 'kfold', 'Is_Lead'], axis=1), train_folds['Is_Lead'].values),\n",
    "#                                    verbose=3,\n",
    "#                                    random_state=random_seed)\n",
    "\n",
    "\n",
    "\n",
    "\n",
    "\n",
    "# random_search.fit(train_folds.drop(['ID', 'kfold', 'Is_Lead'], axis=1), train_folds['Is_Lead'].values)\n",
    "\n",
    "\n",
    "# random_search.best_params_\n",
    "\n",
    "# {'subsample': 1.0,\n",
    "#  'n_estimators': 300,\n",
    "#  'min_child_weight': 10,\n",
    "#  'max_depth': 5,\n",
    "#  'learning_rate': 0.1,\n",
    "#  'gamma': 5,\n",
    "#  'colsample_bytree': 0.6}\n"
   ]
  },
  {
   "cell_type": "code",
   "execution_count": 29,
   "id": "4cc5e43a",
   "metadata": {
    "hidden": true
   },
   "outputs": [],
   "source": [
    "# LGBM Tuning\n",
    "# param_test = {'learning_rate' : [0.01, 0.02, 0.03, 0.04, 0.05, 0.08, 0.1, 0.2, 0.3, 0.4],\n",
    "#               'n_estimators' : [100, 200, 300, 400, 500, 600, 800, 1000, 1500, 2000],\n",
    "#               'min_child_weight': [1e-5, 1e-3, 1e-2, 1e-1, 1, 1e1, 1e2, 1e3, 1e4],\n",
    "#               'max_depth': [-1, 1, 2, 3, 4, 5, 6, 7],\n",
    "#               'reg_alpha': [0, 1e-1, 1, 2, 5, 7, 10, 50, 100],\n",
    "#               'reg_lambda': [0, 1e-1, 1, 5, 10, 20, 50, 100]}\n",
    "\n",
    "# skf = StratifiedKFold(n_splits=5, shuffle = False)\n",
    "\n",
    "\n",
    "# random_search = RandomizedSearchCV(\n",
    "#                         estimator = lgbclf, param_distributions = param_test, \n",
    "#                         n_iter = 50,\n",
    "#                         scoring = 'roc_auc',\n",
    "#                         cv = skf.split(train_folds.drop(['ID', 'kfold', 'Is_Lead'], axis=1),train_folds['Is_Lead'].values),\n",
    "#                         refit = True,\n",
    "#                         random_state = random_seed,\n",
    "#                         verbose = True,\n",
    "#                         n_jobs=-1)\n",
    "\n",
    "# random_search.fit(train_folds.drop(['ID', 'kfold', 'Is_Lead'], axis=1), train_folds['Is_Lead'].values)\n",
    "\n",
    "# random_search.best_params_\n",
    "\n",
    "\n",
    "# {'reg_lambda': 1,\n",
    "#  'reg_alpha': 1,\n",
    "#  'n_estimators': 600,\n",
    "#  'min_child_weight': 1,\n",
    "#  'max_depth': 5,\n",
    "#  'learning_rate': 0.02}"
   ]
  }
 ],
 "metadata": {
  "kernelspec": {
   "display_name": "Python 3",
   "language": "python",
   "name": "python3"
  },
  "language_info": {
   "codemirror_mode": {
    "name": "ipython",
    "version": 3
   },
   "file_extension": ".py",
   "mimetype": "text/x-python",
   "name": "python",
   "nbconvert_exporter": "python",
   "pygments_lexer": "ipython3",
   "version": "3.9.4"
  }
 },
 "nbformat": 4,
 "nbformat_minor": 5
}
